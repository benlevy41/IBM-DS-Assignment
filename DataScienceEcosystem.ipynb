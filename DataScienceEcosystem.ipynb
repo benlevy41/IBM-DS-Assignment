{
 "cells": [
  {
   "cell_type": "markdown",
   "id": "f99eda6d",
   "metadata": {},
   "source": [
    "# Data Science Tools and Ecosystem\n",
    "Summarize data science tools and ecosystems\n",
    "\n"
   ]
  },
  {
   "cell_type": "markdown",
   "id": "cfb46de3",
   "metadata": {},
   "source": [
    "**Objectives:**\n",
    "- list some of the languages used by data scientists\n",
    "- list some of the commonly used libraries\n",
    "- list some of the popular development environments"
   ]
  },
  {
   "cell_type": "markdown",
   "id": "d4d9d724",
   "metadata": {},
   "source": [
    "Some of the popular languages that data scientists use are:\n",
    "1. R\n",
    "2. Python\n",
    "3. C++\n"
   ]
  },
  {
   "cell_type": "markdown",
   "id": "968be78d",
   "metadata": {},
   "source": [
    "Some of the commonly used data science libraries are:\n",
    "\n",
    "1. Numpy\n",
    "2. Scipi\n",
    "3. Pandas"
   ]
  },
  {
   "cell_type": "markdown",
   "id": "a2b41156",
   "metadata": {},
   "source": [
    "| Data Science Tools |\n",
    "| ------------------ |\n",
    "| Jupyter Notebook |\n",
    "| RStudio |\n",
    "| Google Colab |"
   ]
  },
  {
   "cell_type": "markdown",
   "id": "aaaad852",
   "metadata": {},
   "source": [
    "### Below are a few examples of evaluating arithmetic expressions in Python.\n"
   ]
  },
  {
   "cell_type": "code",
   "execution_count": 3,
   "id": "9cb252c5",
   "metadata": {},
   "outputs": [
    {
     "name": "stdout",
     "output_type": "stream",
     "text": [
      "17\n"
     ]
    }
   ],
   "source": [
    "# this expression does a simple arithmetic operation and prints the result\n",
    "print((3*4)+5)"
   ]
  },
  {
   "cell_type": "code",
   "execution_count": 6,
   "id": "602a5bdb",
   "metadata": {},
   "outputs": [
    {
     "name": "stdout",
     "output_type": "stream",
     "text": [
      "200 minutes = 3.3333333333333335 hours\n"
     ]
    }
   ],
   "source": [
    "# this cell converts 200 minutes to hours by dividing by 60\n",
    "print(\"200 minutes = \"+ str((200/60)) +\" hours\")"
   ]
  },
  {
   "cell_type": "markdown",
   "id": "69d18d08",
   "metadata": {},
   "source": [
    "## Author:\n",
    "Ben Irwin"
   ]
  },
  {
   "cell_type": "code",
   "execution_count": null,
   "id": "ffc03477",
   "metadata": {},
   "outputs": [],
   "source": []
  }
 ],
 "metadata": {
  "kernelspec": {
   "display_name": "Python 3 (ipykernel)",
   "language": "python",
   "name": "python3"
  },
  "language_info": {
   "codemirror_mode": {
    "name": "ipython",
    "version": 3
   },
   "file_extension": ".py",
   "mimetype": "text/x-python",
   "name": "python",
   "nbconvert_exporter": "python",
   "pygments_lexer": "ipython3",
   "version": "3.10.9"
  }
 },
 "nbformat": 4,
 "nbformat_minor": 5
}
